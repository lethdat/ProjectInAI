{
 "cells": [
  {
   "cell_type": "code",
   "execution_count": 1,
   "id": "2cfaaeef",
   "metadata": {
    "tags": []
   },
   "outputs": [],
   "source": [
    "# Import libraries\n",
    "import glob\n",
    "import pydicom\n",
    "import numpy as np\n",
    "from matplotlib import pyplot as plt\n",
    "import matplotlib.patches as patches\n",
    "from matplotlib.widgets import Slider\n",
    "import time\n",
    "import os\n",
    "import re\n",
    "import ipywidgets as ipyw\n",
    "from scipy import ndimage\n",
    "from PIL import Image, ImageOps\n",
    "from zipfile import ZipFile\n",
    "#import ipyvolume as ipv\n",
    "import itertools\n",
    "from scipy.ndimage import zoom\n",
    "\n",
    "import scipy.ndimage\n",
    "from scipy.ndimage import rotate\n",
    "from skimage import morphology\n",
    "from skimage import measure\n",
    "from skimage.transform import resize\n",
    "from sklearn.cluster import KMeans\n",
    "#from plotly import __version__\n",
    "#from plotly.offline import download_plotlyjs, init_notebook_mode, plot, iplot\n",
    "#from plotly.tools import FigureFactory as FF\n",
    "#from plotly.graph_objs import *\n",
    "#init_notebook_mode(connected=True) \n",
    "import pandas as pd\n",
    "from IPython.display import Image \n",
    "import PIL\n",
    "from PIL import ImageFont\n",
    "from PIL import Image\n",
    "from PIL import ImageDraw\n",
    "\n",
    "from sklearn.preprocessing import StandardScaler\n",
    "from sklearn_pandas import DataFrameMapper\n",
    "\n",
    "import torch\n",
    "import torchtuples as tt\n",
    "\n",
    "from pycox.datasets import metabric\n",
    "from pycox.models import CoxPH\n",
    "from pycox.evaluation import EvalSurv\n",
    "\n",
    "# Kaplan-Meier curve\n",
    "from string import ascii_lowercase# Visualisation\n",
    "import seaborn as sns\n",
    "#sns.set(style='dark', context='talk')# Kaplan-Meier curve\n",
    "from lifelines import KaplanMeierFitter \n",
    "from sksurv.nonparametric import kaplan_meier_estimator\n",
    "\n",
    "import missingno\n",
    "from sklearn.preprocessing import LabelEncoder , OneHotEncoder\n",
    "from lifelines.utils import concordance_index\n",
    "from lifelines import CoxPHFitter, WeibullAFTFitter , LogNormalAFTFitter, LogLogisticAFTFitter , PiecewiseExponentialRegressionFitter\n",
    "from lifelines.utils import k_fold_cross_validation\n",
    "from IPython.display import HTML"
   ]
  },
  {
   "cell_type": "code",
   "execution_count": 2,
   "id": "f9051804",
   "metadata": {},
   "outputs": [],
   "source": [
    "class showPETCT3D:\n",
    "    \"\"\" \n",
    "    Modified from ImageSlice3D to show both PET and CT in same volume\n",
    "    \n",
    "    \"\"\"\n",
    "    \n",
    "    def __init__(self, volumeCT, volumePET, figsize=(100,100), cmapCT='gray', cmapPET=\"hot\"):\n",
    "        self.volumeCT  = volumeCT\n",
    "        self.volumePET = volumePET\n",
    "        self.figsize   = figsize\n",
    "        self.cmapCT    = cmapCT\n",
    "        self.cmapPET   = cmapPET\n",
    "        self.vCT = [np.min(volumeCT), np.max(volumeCT)]\n",
    "        self.vPET = [np.min(volumePET), np.max(volumePET)]\n",
    "        # Call to select slice plane\n",
    "        ipyw.interact(self.views)\n",
    "    \n",
    "    def views(self):\n",
    "        self.volCT1 = np.transpose(self.volumeCT, [1,2,0])\n",
    "        self.volCT2 = np.rot90(np.transpose(self.volumeCT, [2,0,1]), 3) #rotate 270 degrees\n",
    "        self.volCT3 = np.transpose(self.volumeCT, [0,1,2])\n",
    "        self.volPET1 = np.transpose(self.volumePET, [1,2,0])\n",
    "        self.volPET2 = np.rot90(np.transpose(self.volumePET, [2,0,1]), 3) #rotate 270 degrees\n",
    "        self.volPET3 = np.transpose(self.volumePET, [0,1,2])\n",
    "        maxZ1 = self.volCT1.shape[2] - 1\n",
    "        maxZ2 = self.volCT2.shape[2] - 1\n",
    "        maxZ3 = self.volCT3.shape[2] - 1\n",
    "        \n",
    "        ipyw.interact(self.plot_slice, \n",
    "            z1=ipyw.IntSlider(min=0, max=maxZ1, step=1, continuous_update=False, \n",
    "            description='Axial:'), \n",
    "            z2=ipyw.IntSlider(min=0, max=maxZ2, step=1, continuous_update=False, \n",
    "            description='Coronal:'),\n",
    "            z3=ipyw.IntSlider(min=0, max=maxZ3, step=1, continuous_update=False, \n",
    "            description='Sagittal:'))\n",
    "    def plot_slice(self, z1, z2, z3):\n",
    "        # Plot slice for the given plane and slice\n",
    "        f,ax = plt.subplots(1,3, figsize=self.figsize)\n",
    "        #print(self.figsize)\n",
    "        #self.fig = plt.figure(figsize=self.figsize)\n",
    "        #f(figsize = self.figsize)\n",
    "        ax[0].imshow(self.volCT1[:,:,z1], cmap=plt.get_cmap(self.cmapCT), \n",
    "            vmin=self.vCT[0], vmax=self.vCT[1])\n",
    "        ax[1].imshow(np.flip(self.volCT2[:,:,z2],1), cmap=plt.get_cmap(self.cmapCT), \n",
    "            vmin=self.vCT[0], vmax=self.vCT[1])\n",
    "        ax[2].imshow(self.volCT3[:,:,z3], cmap=plt.get_cmap(self.cmapCT), \n",
    "            vmin=self.vCT[0], vmax=self.vCT[1])\n",
    "        \n",
    "        ax[0].imshow(self.volPET1[:,:,z1], cmap=plt.get_cmap(self.cmapPET), \n",
    "            vmin=self.vPET[0], vmax=self.vPET[1], alpha=0.5)\n",
    "        ax[1].imshow(np.flip(self.volPET2[:,:,z2],1), cmap=plt.get_cmap(self.cmapPET), \n",
    "            vmin=self.vPET[0], vmax=self.vPET[1], alpha=0.5)\n",
    "        ax[2].imshow(self.volPET3[:,:,z3], cmap=plt.get_cmap(self.cmapPET), \n",
    "            vmin=self.vPET[0], vmax=self.vPET[1], alpha=0.5)\n",
    "        \n",
    "        ax[0].axvline(x=z3,color='red',linewidth=5.0)\n",
    "        ax[0].axhline(y=z2,color='green',linewidth=5.0)\n",
    "        \n",
    "        ax[1].axhline(y=z1,color='blue',linewidth=5.0)\n",
    "        ax[1].axvline(x=z3,color='red',linewidth=5.0)\n",
    "        \n",
    "        ax[2].axhline(y=z1,color='blue',linewidth=5.0)\n",
    "        ax[2].axvline(x=z2,color='green',linewidth=5.0)\n",
    "        plt.show()"
   ]
  },
  {
   "cell_type": "code",
   "execution_count": 3,
   "id": "362e6b62-a5d5-491f-97d6-99e06a5f5229",
   "metadata": {},
   "outputs": [],
   "source": [
    "def compute_suv(image_file_list):\n",
    "    \n",
    "    estimated = False\n",
    "\n",
    "    raw,spacing,origin,direction = imread(image_file_list)\n",
    "    \n",
    "    f=pydicom.dcmread(image_file_list[0])\n",
    "    \n",
    "    try:\n",
    "        weight_grams = float(f.PatientWeight)*1000\n",
    "    except:\n",
    "        traceback.print_exc()\n",
    "        weight_grams = 75000\n",
    "        estimated = True\n",
    "        \n",
    "    try:\n",
    "        # Get Scan time\n",
    "        scantime = datetime.datetime.strptime(f.AcquisitionTime,'%H%M%S.%f')\n",
    "        # Start Time for the Radiopharmaceutical Injection\n",
    "        injection_time = datetime.datetime.strptime(f.RadiopharmaceuticalInformationSequence[0].RadiopharmaceuticalStartTime,'%H%M%S.%f')\n",
    "        # Half Life for Radionuclide # seconds\n",
    "        half_life = float(f.RadiopharmaceuticalInformationSequence[0].RadionuclideHalfLife) \n",
    "        # Total dose injected for Radionuclide\n",
    "        injected_dose = float(f.RadiopharmaceuticalInformationSequence[0].RadionuclideTotalDose)\n",
    "\n",
    "        # Calculate decay\n",
    "        decay = np.exp(-np.log(2)*((scantime-injection_time).seconds)/half_life);\n",
    "        # Calculate the dose decayed during procedure\n",
    "        injected_dose_decay = injected_dose*decay; # in Bq        \n",
    "    except:\n",
    "        traceback.print_exc()\n",
    "        decay = np.exp(-np.log(2)*(1.75*3600)/6588); # 90 min waiting time, 15 min preparation\n",
    "        injected_dose_decay = 420000000 * decay; # 420 MBq\n",
    "        estimated = True\n",
    "    \n",
    "    # Calculate SUV # g/ml\n",
    "    suv = raw*weight_grams/injected_dose_decay\n",
    "    \n",
    "    return suv, estimated, raw,spacing,origin,direction"
   ]
  },
  {
   "cell_type": "code",
   "execution_count": 4,
   "id": "7e0b7c07",
   "metadata": {
    "jupyter": {
     "source_hidden": true
    },
    "tags": []
   },
   "outputs": [],
   "source": [
    "def atoi(text):\n",
    "    return int(text) if text.isdigit() else text\n",
    "\n",
    "def natural_keys(text):\n",
    "    '''\n",
    "    alist.sort(key=natural_keys) sorts in human order\n",
    "    http://nedbatchelder.com/blog/200712/human_sorting.html\n",
    "    (See Toothy's implementation in the comments)\n",
    "    '''\n",
    "    return [ atoi(c) for c in re.split(r'(\\d+)', text) ]"
   ]
  },
  {
   "cell_type": "code",
   "execution_count": 5,
   "id": "399ea506",
   "metadata": {
    "jupyter": {
     "source_hidden": true
    },
    "tags": []
   },
   "outputs": [],
   "source": [
    "def resize_volume(img, new_shape):\n",
    "    \"\"\"Resize across z-axis\"\"\"\n",
    "    # Set the desired depth\n",
    "    desired_depth = new_shape[-1]\n",
    "    desired_width = new_shape[0]\n",
    "    desired_height = new_shape[1]\n",
    "    # Get current depth\n",
    "    current_depth = img.shape[-1]\n",
    "    current_width = img.shape[0]\n",
    "    current_height = img.shape[1]\n",
    "    # Compute depth factor\n",
    "    depth = current_depth / desired_depth\n",
    "    width = current_width / desired_width\n",
    "    height = current_height / desired_height\n",
    "    depth_factor = 1 / depth\n",
    "    width_factor = 1 / width\n",
    "    height_factor = 1 / height\n",
    "    # Rotate\n",
    "    img = ndimage.rotate(img, 90, reshape=False)\n",
    "    # Resize across z-axis\n",
    "    img = ndimage.zoom(img, (width_factor, height_factor, depth_factor), order=1)\n",
    "    return img"
   ]
  },
  {
   "cell_type": "code",
   "execution_count": 6,
   "id": "8ce762fd",
   "metadata": {
    "jupyter": {
     "source_hidden": true
    },
    "tags": []
   },
   "outputs": [],
   "source": [
    "def convert_to_hu(dicom_file):\n",
    "    bias = dicom_file.RescaleIntercept\n",
    "    slope = dicom_file.RescaleSlope\n",
    "    pixel_values = dicom_file.pixel_array\n",
    "    new_pixel_values = (pixel_values * slope) + bias\n",
    "    return new_pixel_values"
   ]
  },
  {
   "cell_type": "code",
   "execution_count": 7,
   "id": "96a93439",
   "metadata": {
    "jupyter": {
     "source_hidden": true
    },
    "tags": []
   },
   "outputs": [],
   "source": [
    "def map_ax(vol_arr,axx):\n",
    "    map_xy = np.ndarray.max(vol_arr, axx)\n",
    "    return map_xy"
   ]
  },
  {
   "cell_type": "code",
   "execution_count": 8,
   "id": "3e94585c",
   "metadata": {
    "jupyter": {
     "source_hidden": true
    },
    "tags": []
   },
   "outputs": [],
   "source": [
    "def norm(arr):\n",
    "    return (arr-np.min(arr))/(np.max(arr)-np.min(arr))*2**8"
   ]
  },
  {
   "cell_type": "code",
   "execution_count": 9,
   "id": "09179756",
   "metadata": {
    "jupyter": {
     "source_hidden": true
    },
    "tags": []
   },
   "outputs": [],
   "source": [
    "def window_image(image, window_center, window_width):\n",
    "    img_min = window_center - window_width // 2\n",
    "    img_max = window_center + window_width // 2\n",
    "    window_image = image.copy()\n",
    "    window_image[window_image < img_min] = img_min\n",
    "    window_image[window_image > img_max] = img_max\n",
    "    \n",
    "    return window_image"
   ]
  },
  {
   "cell_type": "code",
   "execution_count": 10,
   "id": "dbfd78ec",
   "metadata": {
    "jupyter": {
     "source_hidden": true
    },
    "tags": []
   },
   "outputs": [],
   "source": [
    "def gaussian_kernel(size, sigma=1):\n",
    "    size = int(size) // 2\n",
    "    x, y = np.mgrid[-size:size+1, -size:size+1]\n",
    "    normal = 1 / (2.0 * np.pi * sigma**2)\n",
    "    g =  np.exp(-((x**2 + y**2) / (2.0*sigma**2))) * normal\n",
    "    return g"
   ]
  },
  {
   "cell_type": "code",
   "execution_count": 11,
   "id": "a9194ff5",
   "metadata": {
    "jupyter": {
     "source_hidden": true
    },
    "tags": []
   },
   "outputs": [],
   "source": [
    "from scipy import ndimage\n",
    "from scipy.ndimage.filters import convolve\n",
    "\n",
    "from scipy import misc\n",
    "import numpy as np\n",
    "\n",
    "class cannyEdgeDetector:\n",
    "    def __init__(self, imgs, sigma=1, kernel_size=5, weak_pixel=75, strong_pixel=255, lowthreshold=0.05, highthreshold=0.15):\n",
    "        self.imgs = imgs\n",
    "        self.imgs_final = []\n",
    "        self.img_smoothed = None\n",
    "        self.gradientMat = None\n",
    "        self.thetaMat = None\n",
    "        self.nonMaxImg = None\n",
    "        self.thresholdImg = None\n",
    "        self.weak_pixel = weak_pixel\n",
    "        self.strong_pixel = strong_pixel\n",
    "        self.sigma = sigma\n",
    "        self.kernel_size = kernel_size\n",
    "        self.lowThreshold = lowthreshold\n",
    "        self.highThreshold = highthreshold\n",
    "        return \n",
    "    \n",
    "    def gaussian_kernel(self, size, sigma=1):\n",
    "        size = int(size) // 2\n",
    "        x, y = np.mgrid[-size:size+1, -size:size+1]\n",
    "        normal = 1 / (2.0 * np.pi * sigma**2)\n",
    "        g =  np.exp(-((x**2 + y**2) / (2.0*sigma**2))) * normal\n",
    "        return g\n",
    "    \n",
    "    def sobel_filters(self, img):\n",
    "        Kx = np.array([[-1, 0, 1], [-2, 0, 2], [-1, 0, 1]], np.float32)\n",
    "        Ky = np.array([[1, 2, 1], [0, 0, 0], [-1, -2, -1]], np.float32)\n",
    "\n",
    "        Ix = ndimage.filters.convolve(img, Kx)\n",
    "        Iy = ndimage.filters.convolve(img, Ky)\n",
    "\n",
    "        G = np.hypot(Ix, Iy)\n",
    "        G = G / G.max() * 255\n",
    "        theta = np.arctan2(Iy, Ix)\n",
    "        return (G, theta)\n",
    "    \n",
    "\n",
    "    def non_max_suppression(self, img, D):\n",
    "        M, N = img.shape\n",
    "        Z = np.zeros((M,N), dtype=np.int32)\n",
    "        angle = D * 180. / np.pi\n",
    "        angle[angle < 0] += 180\n",
    "\n",
    "\n",
    "        for i in range(1,M-1):\n",
    "            for j in range(1,N-1):\n",
    "                try:\n",
    "                    q = 255\n",
    "                    r = 255\n",
    "\n",
    "                   #angle 0\n",
    "                    if (0 <= angle[i,j] < 22.5) or (157.5 <= angle[i,j] <= 180):\n",
    "                        q = img[i, j+1]\n",
    "                        r = img[i, j-1]\n",
    "                    #angle 45\n",
    "                    elif (22.5 <= angle[i,j] < 67.5):\n",
    "                        q = img[i+1, j-1]\n",
    "                        r = img[i-1, j+1]\n",
    "                    #angle 90\n",
    "                    elif (67.5 <= angle[i,j] < 112.5):\n",
    "                        q = img[i+1, j]\n",
    "                        r = img[i-1, j]\n",
    "                    #angle 135\n",
    "                    elif (112.5 <= angle[i,j] < 157.5):\n",
    "                        q = img[i-1, j-1]\n",
    "                        r = img[i+1, j+1]\n",
    "\n",
    "                    if (img[i,j] >= q) and (img[i,j] >= r):\n",
    "                        Z[i,j] = img[i,j]\n",
    "                    else:\n",
    "                        Z[i,j] = 0\n",
    "\n",
    "\n",
    "                except IndexError as e:\n",
    "                    pass\n",
    "\n",
    "        return Z\n",
    "\n",
    "    def threshold(self, img):\n",
    "\n",
    "        highThreshold = img.max() * self.highThreshold;\n",
    "        lowThreshold = highThreshold * self.lowThreshold;\n",
    "\n",
    "        M, N = img.shape\n",
    "        res = np.zeros((M,N), dtype=np.int32)\n",
    "\n",
    "        weak = np.int32(self.weak_pixel)\n",
    "        strong = np.int32(self.strong_pixel)\n",
    "\n",
    "        strong_i, strong_j = np.where(img >= highThreshold)\n",
    "        zeros_i, zeros_j = np.where(img < lowThreshold)\n",
    "\n",
    "        weak_i, weak_j = np.where((img <= highThreshold) & (img >= lowThreshold))\n",
    "\n",
    "        res[strong_i, strong_j] = strong\n",
    "        res[weak_i, weak_j] = weak\n",
    "\n",
    "        return (res)\n",
    "\n",
    "    def hysteresis(self, img):\n",
    "\n",
    "        M, N = img.shape\n",
    "        weak = self.weak_pixel\n",
    "        strong = self.strong_pixel\n",
    "\n",
    "        for i in range(1, M-1):\n",
    "            for j in range(1, N-1):\n",
    "                if (img[i,j] == weak):\n",
    "                    try:\n",
    "                        if ((img[i+1, j-1] == strong) or (img[i+1, j] == strong) or (img[i+1, j+1] == strong)\n",
    "                            or (img[i, j-1] == strong) or (img[i, j+1] == strong)\n",
    "                            or (img[i-1, j-1] == strong) or (img[i-1, j] == strong) or (img[i-1, j+1] == strong)):\n",
    "                            img[i, j] = strong\n",
    "                        else:\n",
    "                            img[i, j] = 0\n",
    "                    except IndexError as e:\n",
    "                        pass\n",
    "\n",
    "        return img\n",
    "    \n",
    "    def detect(self):\n",
    "        imgs_final = []\n",
    "        for i, img in enumerate(self.imgs):    \n",
    "            self.img_smoothed = convolve(img, self.gaussian_kernel(self.kernel_size, self.sigma))\n",
    "            self.gradientMat, self.thetaMat = self.sobel_filters(self.img_smoothed)\n",
    "            self.nonMaxImg = self.non_max_suppression(self.gradientMat, self.thetaMat)\n",
    "            self.thresholdImg = self.threshold(self.nonMaxImg)\n",
    "            img_final = self.hysteresis(self.thresholdImg)\n",
    "            self.imgs_final.append(img_final)\n",
    "\n",
    "        return self.imgs_final"
   ]
  },
  {
   "cell_type": "code",
   "execution_count": 12,
   "id": "1fbf2f69",
   "metadata": {
    "jupyter": {
     "source_hidden": true
    },
    "tags": []
   },
   "outputs": [],
   "source": [
    "def blur(a):\n",
    "    kernel = np.array([1.0,1.5,1.0]) # Here you would insert your actual kernel of any size\n",
    "    a = np.apply_along_axis(lambda x: np.convolve(x, kernel, mode='same'), 0, a)\n",
    "    a = np.apply_along_axis(lambda x: np.convolve(x, kernel, mode='same'), 1, a)\n",
    "    return a"
   ]
  },
  {
   "cell_type": "code",
   "execution_count": 13,
   "id": "964bdebb",
   "metadata": {
    "jupyter": {
     "source_hidden": true
    },
    "tags": []
   },
   "outputs": [],
   "source": [
    "def get8n(x, y, shape):\n",
    "    out = []\n",
    "    maxx = shape[0]-1\n",
    "    maxy = shape[1]-1\n",
    "    \n",
    "    #top left\n",
    "    outx = min(max(x-1,0),maxx)\n",
    "    outy = min(max(y-1,0),maxy)\n",
    "    out.append((outx,outy))\n",
    "    \n",
    "    #top center\n",
    "    outx = x\n",
    "    outy = min(max(y-1,0),maxy)\n",
    "    out.append((outx,outy))\n",
    "    \n",
    "    #top right\n",
    "    outx = min(max(x+1,0),maxx)\n",
    "    outy = min(max(y-1,0),maxy)\n",
    "    out.append((outx,outy))\n",
    "    \n",
    "    #left\n",
    "    outx = min(max(x-1,0),maxx)\n",
    "    outy = y\n",
    "    out.append((outx,outy))\n",
    "    \n",
    "    #right\n",
    "    outx = min(max(x+1,0),maxx)\n",
    "    outy = y\n",
    "    out.append((outx,outy))\n",
    "    \n",
    "    #bottom left\n",
    "    outx = min(max(x-1,0),maxx)\n",
    "    outy = min(max(y+1,0),maxy)\n",
    "    out.append((outx,outy))\n",
    "    \n",
    "    #bottom center\n",
    "    outx = x\n",
    "    outy = min(max(y+1,0),maxy)\n",
    "    out.append((outx,outy))\n",
    "    \n",
    "    #bottom right\n",
    "    outx = min(max(x+1,0),maxx)\n",
    "    outy = min(max(y+1,0),maxy)\n",
    "    out.append((outx,outy))\n",
    "    \n",
    "    return out\n",
    "\n",
    "def region_growing(img, seed):\n",
    "    seed_points = []\n",
    "    outimg = np.zeros_like(img)\n",
    "    seed_points.append((seed[0], seed[1]))\n",
    "    processed = []\n",
    "    while(len(seed_points) > 0):\n",
    "        pix = seed_points[0]\n",
    "        outimg[pix[0], pix[1]] = 255\n",
    "        for coord in get8n(pix[0], pix[1], img.shape):\n",
    "            if img[coord[0], coord[1]] != 0:\n",
    "                outimg[coord[0], coord[1]] = 255\n",
    "                if not coord in processed:\n",
    "                    seed_points.append(coord)\n",
    "                processed.append(coord)\n",
    "        seed_points.pop(0)\n",
    "        #cv2.imshow(\"progress\",outimg)\n",
    "        #cv2.waitKey(1)\n",
    "    return outimg"
   ]
  },
  {
   "cell_type": "code",
   "execution_count": 14,
   "id": "25348530",
   "metadata": {},
   "outputs": [
    {
     "name": "stdout",
     "output_type": "stream",
     "text": [
      "/run/media/lethdat/LTD-1TB/ProjectOfAI\n"
     ]
    }
   ],
   "source": [
    "list_fdg = []\n",
    "info_fdg = []\n",
    "\n",
    "list_ct=[]\n",
    "info_ct=[] \n",
    "\n",
    "print (os.getcwd())\n",
    "root_path = \"./crawData/data_n_400/\"\n",
    "#statistics_rp = root_path + \"AIDATA_NSCLC+SCLC_20201130_tissue(n246)_20210202.xlsx\"\n",
    "statistics_rp = root_path + \"AIDATA_NSCLC+SCLC_20210210_tissue(n154).xlsx\"\n",
    "\n",
    "#CT_path = \"AIDATA_CT_20201105(n=246)_20210202/\"\n",
    "#PET_path = \"AIDATA_PET_20201105(n=246)_20210202/\"\n",
    "\n",
    "CT_path = \"AIDATA_CT_20210210(n=154)/\"\n",
    "PET_path = \"AIDATA_PET_20210210(n=154)/\"\n",
    "\n",
    "#patient_num = \"LC00026\"\n",
    "patient_num = \"LC30160\"\n",
    "#patient_num = \"HJ19003 FDG, ACT\"\n",
    "fdg_root = \"FDG\"\n",
    "ct_root  = \"CT\"\n",
    "\n",
    "df_clinical_train = pd.read_excel(open(statistics_rp, 'rb'), sheet_name='Sheet1')  \n",
    "\n",
    "fdg_dir      = root_path + PET_path + patient_num + \"/\" \n",
    "fdg_paths    = sorted(glob.glob(fdg_dir+ \"IM*\"),key=natural_keys)\n",
    "\n",
    "ct_dir   = root_path + CT_path + \"CT_\"+ patient_num + \"/\" \n",
    "ct_paths = sorted(glob.glob(ct_dir+ \"IM*\"),key=natural_keys)\n"
   ]
  },
  {
   "cell_type": "markdown",
   "id": "6c0b0a0e",
   "metadata": {},
   "source": [
    "Features Exploration"
   ]
  },
  {
   "cell_type": "code",
   "execution_count": 15,
   "id": "ca7e7be6-70dd-46c6-b1b0-3237c1abc72b",
   "metadata": {},
   "outputs": [],
   "source": [
    "#  PatientID \n",
    "#  gender        \n",
    "#  age                \n",
    "#  histology \n",
    "#  Overall.stage\n",
    "#  Clinical.T.stage \n",
    "#  Clinical.N.stage \n",
    "#  Clinical.M.stage  \n",
    "#  Smoking.status\n",
    "#  Smoking.amount  \n",
    "#  Deadstatus.event  \n",
    "#  Survival.time\n",
    "\n",
    "list_Patient = df_clinical_train['PatientID']\n",
    "P_ID = df_clinical_train[df_clinical_train[\"PatientID\"]==patient_num]"
   ]
  },
  {
   "cell_type": "code",
   "execution_count": 16,
   "id": "f32160f8",
   "metadata": {},
   "outputs": [],
   "source": [
    "df_clinical_train.head()\n",
    "del df_clinical_train['Groups']"
   ]
  },
  {
   "cell_type": "code",
   "execution_count": 17,
   "id": "cb35898d",
   "metadata": {},
   "outputs": [
    {
     "name": "stderr",
     "output_type": "stream",
     "text": [
      "/tmp/ipykernel_783935/3906162908.py:3: FutureWarning: Dropping of nuisance columns in DataFrame reductions (with 'numeric_only=None') is deprecated; in a future version this will raise TypeError.  Select only valid columns before calling the reduction.\n",
      "  df_clinical_train = df_clinical_train.fillna(df_clinical_train.mean())\n"
     ]
    },
    {
     "data": {
      "image/png": "[encoded data removed]",
      "text/plain": [
       "<Figure size 2160x720 with 2 Axes>"
      ]
     },
     "metadata": {
      "needs_background": "light"
     },
     "output_type": "display_data"
    }
   ],
   "source": [
    "missingno.matrix(df_clinical_train, figsize = (30,10))\n",
    "#We will use the age feature after filling the NaN values \n",
    "df_clinical_train = df_clinical_train.fillna(df_clinical_train.mean())"
   ]
  },
  {
   "cell_type": "code",
   "execution_count": 18,
   "id": "9d5f9281",
   "metadata": {},
   "outputs": [
    {
     "data": {
      "text/plain": [
       "<AxesSubplot:>"
      ]
     },
     "execution_count": 18,
     "metadata": {},
     "output_type": "execute_result"
    },
    {
     "data": {
      "image/png": "[encoded data removed]",
      "text/plain": [
       "<Figure size 2160x720 with 2 Axes>"
      ]
     },
     "metadata": {
      "needs_background": "light"
     },
     "output_type": "display_data"
    }
   ],
   "source": [
    "missingno.matrix(df_clinical_train, figsize = (30,10))"
   ]
  },
  {
   "cell_type": "code",
   "execution_count": 19,
   "id": "7fc084ac",
   "metadata": {},
   "outputs": [
    {
     "data": {
      "text/plain": [
       "<AxesSubplot:title={'center':'Histology Per (%)'}, ylabel='histology'>"
      ]
     },
     "execution_count": 19,
     "metadata": {},
     "output_type": "execute_result"
    },
    {
     "data": {
      "image/png": "[encoded data removed]",
      "text/plain": [
       "<Figure size 360x360 with 1 Axes>"
      ]
     },
     "metadata": {},
     "output_type": "display_data"
    }
   ],
   "source": [
    "pie_histology = df_clinical_train['histology'].value_counts(normalize=True) * 100\n",
    "pie_histology.plot.pie(title=\"Histology Per (%)\",figsize=(5,5))"
   ]
  },
  {
   "cell_type": "code",
   "execution_count": 20,
   "id": "6877ed14",
   "metadata": {},
   "outputs": [
    {
     "data": {
      "text/plain": [
       "<AxesSubplot:title={'center':'Overall.stage Per (%)'}, ylabel='Overall.stage'>"
      ]
     },
     "execution_count": 20,
     "metadata": {},
     "output_type": "execute_result"
    },
    {
     "data": {
      "image/png": "[encoded data removed]",
      "text/plain": [
       "<Figure size 360x360 with 1 Axes>"
      ]
     },
     "metadata": {},
     "output_type": "display_data"
    }
   ],
   "source": [
    "pie_overall_s = df_clinical_train['Overall.stage'].value_counts(normalize=True) * 100\n",
    "pie_overall_s.plot.pie(title=\"Overall.stage Per (%)\",figsize=(5,5))"
   ]
  },
  {
   "cell_type": "code",
   "execution_count": 21,
   "id": "1bee599b",
   "metadata": {},
   "outputs": [
    {
     "data": {
      "text/plain": [
       "<AxesSubplot:title={'center':'Clinical.T.stage Per (%)'}, ylabel='Clinical.T.stage'>"
      ]
     },
     "execution_count": 21,
     "metadata": {},
     "output_type": "execute_result"
    },
    {
     "data": {
      "image/png": "[encoded data removed]",
      "text/plain": [
       "<Figure size 360x360 with 1 Axes>"
      ]
     },
     "metadata": {},
     "output_type": "display_data"
    }
   ],
   "source": [
    "pie_clinical_T = df_clinical_train['Clinical.T.stage'].value_counts(normalize=True) * 100\n",
    "pie_clinical_T.plot.pie(title=\"Clinical.T.stage Per (%)\",figsize=(5,5))"
   ]
  },
  {
   "cell_type": "code",
   "execution_count": 22,
   "id": "3c368a1f",
   "metadata": {},
   "outputs": [
    {
     "data": {
      "text/plain": [
       "<AxesSubplot:title={'center':'Clinical.N.stage Per (%)'}, ylabel='Clinical.N.stage'>"
      ]
     },
     "execution_count": 22,
     "metadata": {},
     "output_type": "execute_result"
    },
    {
     "data": {
      "image/png": "[encoded data removed]",
      "text/plain": [
       "<Figure size 360x360 with 1 Axes>"
      ]
     },
     "metadata": {},
     "output_type": "display_data"
    }
   ],
   "source": [
    "pie_clinical_N = df_clinical_train['Clinical.N.stage'].value_counts(normalize=True) * 100\n",
    "pie_clinical_N.plot.pie(title=\"Clinical.N.stage Per (%)\",figsize=(5,5))"
   ]
  },
  {
   "cell_type": "code",
   "execution_count": 23,
   "id": "f8a123da",
   "metadata": {},
   "outputs": [
    {
     "data": {
      "text/plain": [
       "<AxesSubplot:title={'center':'Clinical.M.stage Per (%)'}, ylabel='Clinical.M.stage'>"
      ]
     },
     "execution_count": 23,
     "metadata": {},
     "output_type": "execute_result"
    },
    {
     "data": {
      "image/png": "[encoded data removed]",
      "text/plain": [
       "<Figure size 360x360 with 1 Axes>"
      ]
     },
     "metadata": {},
     "output_type": "display_data"
    }
   ],
   "source": [
    "pie_clinical_M = df_clinical_train['Clinical.M.stage'].value_counts(normalize=True) * 100\n",
    "pie_clinical_M.plot.pie(title=\"Clinical.M.stage Per (%)\",figsize=(5,5))"
   ]
  },
  {
   "cell_type": "code",
   "execution_count": 24,
   "id": "e514dd5d",
   "metadata": {},
   "outputs": [
    {
     "data": {
      "image/png": "[encoded data removed]",
      "text/plain": [
       "<Figure size 360x360 with 1 Axes>"
      ]
     },
     "metadata": {},
     "output_type": "display_data"
    },
    {
     "data": {
      "image/png": "[encoded data removed]",
      "text/plain": [
       "<Figure size 360x360 with 1 Axes>"
      ]
     },
     "metadata": {},
     "output_type": "display_data"
    }
   ],
   "source": [
    "pie_death_status = df_clinical_train['Deadstatus.event'].value_counts(normalize=True) * 100\n",
    "pie_death_status.plot.pie(title=\"Deadstatus.event Per (%)\",figsize=(5,5))\n",
    "plt.show()\n",
    "pie_smoking = df_clinical_train['gender'].value_counts(normalize=True) * 100\n",
    "pie_smoking.plot.pie(title=\"Gender Per (%)\",figsize=(5,5))\n",
    "plt.show()"
   ]
  },
  {
   "cell_type": "code",
   "execution_count": 25,
   "id": "dc100472",
   "metadata": {},
   "outputs": [
    {
     "data": {
      "text/plain": [
       "<AxesSubplot:ylabel='Frequency'>"
      ]
     },
     "execution_count": 25,
     "metadata": {},
     "output_type": "execute_result"
    },
    {
     "data": {
      "image/png": "[encoded data removed]",
      "text/plain": [
       "<Figure size 432x288 with 1 Axes>"
      ]
     },
     "metadata": {
      "needs_background": "light"
     },
     "output_type": "display_data"
    }
   ],
   "source": [
    "pie_smoking = df_clinical_train['Survival.time']\n",
    "pie_smoking.plot.hist(bins=10)"
   ]
  },
  {
   "cell_type": "code",
   "execution_count": 26,
   "id": "ae557a7c",
   "metadata": {},
   "outputs": [
    {
     "data": {
      "text/plain": [
       "<AxesSubplot:ylabel='Frequency'>"
      ]
     },
     "execution_count": 26,
     "metadata": {},
     "output_type": "execute_result"
    },
    {
     "data": {
      "image/png": "[encoded data removed]",
      "text/plain": [
       "<Figure size 432x288 with 1 Axes>"
      ]
     },
     "metadata": {
      "needs_background": "light"
     },
     "output_type": "display_data"
    }
   ],
   "source": [
    "df_clinical_train.age.plot.hist()"
   ]
  },
  {
   "cell_type": "code",
   "execution_count": 27,
   "id": "d3c135cc",
   "metadata": {},
   "outputs": [],
   "source": [
    "encoder = LabelEncoder()\n",
    "encoder.fit(df_clinical_train[\"Overall.stage\"] )\n",
    "df_clinical_train[\"Overall.stage\"]= encoder.transform(df_clinical_train[\"Overall.stage\"])"
   ]
  },
  {
   "cell_type": "code",
   "execution_count": 28,
   "id": "45c67e43",
   "metadata": {},
   "outputs": [
    {
     "name": "stderr",
     "output_type": "stream",
     "text": [
      "/tmp/ipykernel_783935/2485954959.py:5: FutureWarning: The frame.append method is deprecated and will be removed from pandas in a future version. Use pandas.concat instead.\n",
      "  km = km.append(pd.DataFrame([[0, df_clinical_train.shape[0], 0, 1]],\n",
      "/tmp/ipykernel_783935/2485954959.py:11: FutureWarning: The frame.append method is deprecated and will be removed from pandas in a future version. Use pandas.concat instead.\n",
      "  km = km.append(pd.DataFrame([[t, n, d, s]],\n",
      "/tmp/ipykernel_783935/2485954959.py:11: FutureWarning: The frame.append method is deprecated and will be removed from pandas in a future version. Use pandas.concat instead.\n",
      "  km = km.append(pd.DataFrame([[t, n, d, s]],\n",
      "/tmp/ipykernel_783935/2485954959.py:11: FutureWarning: The frame.append method is deprecated and will be removed from pandas in a future version. Use pandas.concat instead.\n",
      "  km = km.append(pd.DataFrame([[t, n, d, s]],\n",
      "/tmp/ipykernel_783935/2485954959.py:11: FutureWarning: The frame.append method is deprecated and will be removed from pandas in a future version. Use pandas.concat instead.\n",
      "  km = km.append(pd.DataFrame([[t, n, d, s]],\n",
      "/tmp/ipykernel_783935/2485954959.py:11: FutureWarning: The frame.append method is deprecated and will be removed from pandas in a future version. Use pandas.concat instead.\n",
      "  km = km.append(pd.DataFrame([[t, n, d, s]],\n",
      "/tmp/ipykernel_783935/2485954959.py:11: FutureWarning: The frame.append method is deprecated and will be removed from pandas in a future version. Use pandas.concat instead.\n",
      "  km = km.append(pd.DataFrame([[t, n, d, s]],\n",
      "/tmp/ipykernel_783935/2485954959.py:11: FutureWarning: The frame.append method is deprecated and will be removed from pandas in a future version. Use pandas.concat instead.\n",
      "  km = km.append(pd.DataFrame([[t, n, d, s]],\n",
      "/tmp/ipykernel_783935/2485954959.py:11: FutureWarning: The frame.append method is deprecated and will be removed from pandas in a future version. Use pandas.concat instead.\n",
      "  km = km.append(pd.DataFrame([[t, n, d, s]],\n",
      "/tmp/ipykernel_783935/2485954959.py:11: FutureWarning: The frame.append method is deprecated and will be removed from pandas in a future version. Use pandas.concat instead.\n",
      "  km = km.append(pd.DataFrame([[t, n, d, s]],\n",
      "/tmp/ipykernel_783935/2485954959.py:11: FutureWarning: The frame.append method is deprecated and will be removed from pandas in a future version. Use pandas.concat instead.\n",
      "  km = km.append(pd.DataFrame([[t, n, d, s]],\n",
      "/tmp/ipykernel_783935/2485954959.py:11: FutureWarning: The frame.append method is deprecated and will be removed from pandas in a future version. Use pandas.concat instead.\n",
      "  km = km.append(pd.DataFrame([[t, n, d, s]],\n",
      "/tmp/ipykernel_783935/2485954959.py:11: FutureWarning: The frame.append method is deprecated and will be removed from pandas in a future version. Use pandas.concat instead.\n",
      "  km = km.append(pd.DataFrame([[t, n, d, s]],\n",
      "/tmp/ipykernel_783935/2485954959.py:11: FutureWarning: The frame.append method is deprecated and will be removed from pandas in a future version. Use pandas.concat instead.\n",
      "  km = km.append(pd.DataFrame([[t, n, d, s]],\n",
      "/tmp/ipykernel_783935/2485954959.py:11: FutureWarning: The frame.append method is deprecated and will be removed from pandas in a future version. Use pandas.concat instead.\n",
      "  km = km.append(pd.DataFrame([[t, n, d, s]],\n",
      "/tmp/ipykernel_783935/2485954959.py:11: FutureWarning: The frame.append method is deprecated and will be removed from pandas in a future version. Use pandas.concat instead.\n",
      "  km = km.append(pd.DataFrame([[t, n, d, s]],\n",
      "/tmp/ipykernel_783935/2485954959.py:11: FutureWarning: The frame.append method is deprecated and will be removed from pandas in a future version. Use pandas.concat instead.\n",
      "  km = km.append(pd.DataFrame([[t, n, d, s]],\n",
      "/tmp/ipykernel_783935/2485954959.py:11: FutureWarning: The frame.append method is deprecated and will be removed from pandas in a future version. Use pandas.concat instead.\n",
      "  km = km.append(pd.DataFrame([[t, n, d, s]],\n",
      "/tmp/ipykernel_783935/2485954959.py:11: FutureWarning: The frame.append method is deprecated and will be removed from pandas in a future version. Use pandas.concat instead.\n",
      "  km = km.append(pd.DataFrame([[t, n, d, s]],\n",
      "/tmp/ipykernel_783935/2485954959.py:11: FutureWarning: The frame.append method is deprecated and will be removed from pandas in a future version. Use pandas.concat instead.\n",
      "  km = km.append(pd.DataFrame([[t, n, d, s]],\n",
      "/tmp/ipykernel_783935/2485954959.py:11: FutureWarning: The frame.append method is deprecated and will be removed from pandas in a future version. Use pandas.concat instead.\n",
      "  km = km.append(pd.DataFrame([[t, n, d, s]],\n",
      "/tmp/ipykernel_783935/2485954959.py:11: FutureWarning: The frame.append method is deprecated and will be removed from pandas in a future version. Use pandas.concat instead.\n",
      "  km = km.append(pd.DataFrame([[t, n, d, s]],\n",
      "/tmp/ipykernel_783935/2485954959.py:11: FutureWarning: The frame.append method is deprecated and will be removed from pandas in a future version. Use pandas.concat instead.\n",
      "  km = km.append(pd.DataFrame([[t, n, d, s]],\n",
      "/tmp/ipykernel_783935/2485954959.py:11: FutureWarning: The frame.append method is deprecated and will be removed from pandas in a future version. Use pandas.concat instead.\n",
      "  km = km.append(pd.DataFrame([[t, n, d, s]],\n",
      "/tmp/ipykernel_783935/2485954959.py:11: FutureWarning: The frame.append method is deprecated and will be removed from pandas in a future version. Use pandas.concat instead.\n",
      "  km = km.append(pd.DataFrame([[t, n, d, s]],\n",
      "/tmp/ipykernel_783935/2485954959.py:11: FutureWarning: The frame.append method is deprecated and will be removed from pandas in a future version. Use pandas.concat instead.\n",
      "  km = km.append(pd.DataFrame([[t, n, d, s]],\n",
      "/tmp/ipykernel_783935/2485954959.py:11: FutureWarning: The frame.append method is deprecated and will be removed from pandas in a future version. Use pandas.concat instead.\n",
      "  km = km.append(pd.DataFrame([[t, n, d, s]],\n",
      "/tmp/ipykernel_783935/2485954959.py:11: FutureWarning: The frame.append method is deprecated and will be removed from pandas in a future version. Use pandas.concat instead.\n",
      "  km = km.append(pd.DataFrame([[t, n, d, s]],\n",
      "/tmp/ipykernel_783935/2485954959.py:11: FutureWarning: The frame.append method is deprecated and will be removed from pandas in a future version. Use pandas.concat instead.\n",
      "  km = km.append(pd.DataFrame([[t, n, d, s]],\n",
      "/tmp/ipykernel_783935/2485954959.py:11: FutureWarning: The frame.append method is deprecated and will be removed from pandas in a future version. Use pandas.concat instead.\n",
      "  km = km.append(pd.DataFrame([[t, n, d, s]],\n",
      "/tmp/ipykernel_783935/2485954959.py:11: FutureWarning: The frame.append method is deprecated and will be removed from pandas in a future version. Use pandas.concat instead.\n",
      "  km = km.append(pd.DataFrame([[t, n, d, s]],\n",
      "/tmp/ipykernel_783935/2485954959.py:11: FutureWarning: The frame.append method is deprecated and will be removed from pandas in a future version. Use pandas.concat instead.\n",
      "  km = km.append(pd.DataFrame([[t, n, d, s]],\n",
      "/tmp/ipykernel_783935/2485954959.py:11: FutureWarning: The frame.append method is deprecated and will be removed from pandas in a future version. Use pandas.concat instead.\n",
      "  km = km.append(pd.DataFrame([[t, n, d, s]],\n",
      "/tmp/ipykernel_783935/2485954959.py:11: FutureWarning: The frame.append method is deprecated and will be removed from pandas in a future version. Use pandas.concat instead.\n",
      "  km = km.append(pd.DataFrame([[t, n, d, s]],\n",
      "/tmp/ipykernel_783935/2485954959.py:11: FutureWarning: The frame.append method is deprecated and will be removed from pandas in a future version. Use pandas.concat instead.\n",
      "  km = km.append(pd.DataFrame([[t, n, d, s]],\n",
      "/tmp/ipykernel_783935/2485954959.py:11: FutureWarning: The frame.append method is deprecated and will be removed from pandas in a future version. Use pandas.concat instead.\n",
      "  km = km.append(pd.DataFrame([[t, n, d, s]],\n",
      "/tmp/ipykernel_783935/2485954959.py:11: FutureWarning: The frame.append method is deprecated and will be removed from pandas in a future version. Use pandas.concat instead.\n",
      "  km = km.append(pd.DataFrame([[t, n, d, s]],\n",
      "/tmp/ipykernel_783935/2485954959.py:11: FutureWarning: The frame.append method is deprecated and will be removed from pandas in a future version. Use pandas.concat instead.\n",
      "  km = km.append(pd.DataFrame([[t, n, d, s]],\n",
      "/tmp/ipykernel_783935/2485954959.py:11: FutureWarning: The frame.append method is deprecated and will be removed from pandas in a future version. Use pandas.concat instead.\n",
      "  km = km.append(pd.DataFrame([[t, n, d, s]],\n",
      "/tmp/ipykernel_783935/2485954959.py:11: FutureWarning: The frame.append method is deprecated and will be removed from pandas in a future version. Use pandas.concat instead.\n",
      "  km = km.append(pd.DataFrame([[t, n, d, s]],\n",
      "/tmp/ipykernel_783935/2485954959.py:11: FutureWarning: The frame.append method is deprecated and will be removed from pandas in a future version. Use pandas.concat instead.\n",
      "  km = km.append(pd.DataFrame([[t, n, d, s]],\n",
      "/tmp/ipykernel_783935/2485954959.py:11: FutureWarning: The frame.append method is deprecated and will be removed from pandas in a future version. Use pandas.concat instead.\n",
      "  km = km.append(pd.DataFrame([[t, n, d, s]],\n",
      "/tmp/ipykernel_783935/2485954959.py:11: FutureWarning: The frame.append method is deprecated and will be removed from pandas in a future version. Use pandas.concat instead.\n",
      "  km = km.append(pd.DataFrame([[t, n, d, s]],\n",
      "/tmp/ipykernel_783935/2485954959.py:11: FutureWarning: The frame.append method is deprecated and will be removed from pandas in a future version. Use pandas.concat instead.\n",
      "  km = km.append(pd.DataFrame([[t, n, d, s]],\n",
      "/tmp/ipykernel_783935/2485954959.py:11: FutureWarning: The frame.append method is deprecated and will be removed from pandas in a future version. Use pandas.concat instead.\n",
      "  km = km.append(pd.DataFrame([[t, n, d, s]],\n",
      "/tmp/ipykernel_783935/2485954959.py:11: FutureWarning: The frame.append method is deprecated and will be removed from pandas in a future version. Use pandas.concat instead.\n",
      "  km = km.append(pd.DataFrame([[t, n, d, s]],\n",
      "/tmp/ipykernel_783935/2485954959.py:11: FutureWarning: The frame.append method is deprecated and will be removed from pandas in a future version. Use pandas.concat instead.\n",
      "  km = km.append(pd.DataFrame([[t, n, d, s]],\n",
      "/tmp/ipykernel_783935/2485954959.py:11: FutureWarning: The frame.append method is deprecated and will be removed from pandas in a future version. Use pandas.concat instead.\n",
      "  km = km.append(pd.DataFrame([[t, n, d, s]],\n",
      "/tmp/ipykernel_783935/2485954959.py:11: FutureWarning: The frame.append method is deprecated and will be removed from pandas in a future version. Use pandas.concat instead.\n",
      "  km = km.append(pd.DataFrame([[t, n, d, s]],\n",
      "/tmp/ipykernel_783935/2485954959.py:11: FutureWarning: The frame.append method is deprecated and will be removed from pandas in a future version. Use pandas.concat instead.\n",
      "  km = km.append(pd.DataFrame([[t, n, d, s]],\n",
      "/tmp/ipykernel_783935/2485954959.py:11: FutureWarning: The frame.append method is deprecated and will be removed from pandas in a future version. Use pandas.concat instead.\n",
      "  km = km.append(pd.DataFrame([[t, n, d, s]],\n",
      "/tmp/ipykernel_783935/2485954959.py:11: FutureWarning: The frame.append method is deprecated and will be removed from pandas in a future version. Use pandas.concat instead.\n",
      "  km = km.append(pd.DataFrame([[t, n, d, s]],\n",
      "/tmp/ipykernel_783935/2485954959.py:11: FutureWarning: The frame.append method is deprecated and will be removed from pandas in a future version. Use pandas.concat instead.\n",
      "  km = km.append(pd.DataFrame([[t, n, d, s]],\n",
      "/tmp/ipykernel_783935/2485954959.py:11: FutureWarning: The frame.append method is deprecated and will be removed from pandas in a future version. Use pandas.concat instead.\n",
      "  km = km.append(pd.DataFrame([[t, n, d, s]],\n",
      "/tmp/ipykernel_783935/2485954959.py:11: FutureWarning: The frame.append method is deprecated and will be removed from pandas in a future version. Use pandas.concat instead.\n",
      "  km = km.append(pd.DataFrame([[t, n, d, s]],\n",
      "/tmp/ipykernel_783935/2485954959.py:11: FutureWarning: The frame.append method is deprecated and will be removed from pandas in a future version. Use pandas.concat instead.\n",
      "  km = km.append(pd.DataFrame([[t, n, d, s]],\n",
      "/tmp/ipykernel_783935/2485954959.py:11: FutureWarning: The frame.append method is deprecated and will be removed from pandas in a future version. Use pandas.concat instead.\n",
      "  km = km.append(pd.DataFrame([[t, n, d, s]],\n",
      "/tmp/ipykernel_783935/2485954959.py:11: FutureWarning: The frame.append method is deprecated and will be removed from pandas in a future version. Use pandas.concat instead.\n",
      "  km = km.append(pd.DataFrame([[t, n, d, s]],\n",
      "/tmp/ipykernel_783935/2485954959.py:11: FutureWarning: The frame.append method is deprecated and will be removed from pandas in a future version. Use pandas.concat instead.\n",
      "  km = km.append(pd.DataFrame([[t, n, d, s]],\n",
      "/tmp/ipykernel_783935/2485954959.py:11: FutureWarning: The frame.append method is deprecated and will be removed from pandas in a future version. Use pandas.concat instead.\n",
      "  km = km.append(pd.DataFrame([[t, n, d, s]],\n",
      "/tmp/ipykernel_783935/2485954959.py:11: FutureWarning: The frame.append method is deprecated and will be removed from pandas in a future version. Use pandas.concat instead.\n",
      "  km = km.append(pd.DataFrame([[t, n, d, s]],\n"
     ]
    },
    {
     "name": "stderr",
     "output_type": "stream",
     "text": [
      "/tmp/ipykernel_783935/2485954959.py:11: FutureWarning: The frame.append method is deprecated and will be removed from pandas in a future version. Use pandas.concat instead.\n",
      "  km = km.append(pd.DataFrame([[t, n, d, s]],\n",
      "/tmp/ipykernel_783935/2485954959.py:11: FutureWarning: The frame.append method is deprecated and will be removed from pandas in a future version. Use pandas.concat instead.\n",
      "  km = km.append(pd.DataFrame([[t, n, d, s]],\n",
      "/tmp/ipykernel_783935/2485954959.py:11: FutureWarning: The frame.append method is deprecated and will be removed from pandas in a future version. Use pandas.concat instead.\n",
      "  km = km.append(pd.DataFrame([[t, n, d, s]],\n",
      "/tmp/ipykernel_783935/2485954959.py:11: FutureWarning: The frame.append method is deprecated and will be removed from pandas in a future version. Use pandas.concat instead.\n",
      "  km = km.append(pd.DataFrame([[t, n, d, s]],\n",
      "/tmp/ipykernel_783935/2485954959.py:11: FutureWarning: The frame.append method is deprecated and will be removed from pandas in a future version. Use pandas.concat instead.\n",
      "  km = km.append(pd.DataFrame([[t, n, d, s]],\n",
      "/tmp/ipykernel_783935/2485954959.py:11: FutureWarning: The frame.append method is deprecated and will be removed from pandas in a future version. Use pandas.concat instead.\n",
      "  km = km.append(pd.DataFrame([[t, n, d, s]],\n",
      "/tmp/ipykernel_783935/2485954959.py:11: FutureWarning: The frame.append method is deprecated and will be removed from pandas in a future version. Use pandas.concat instead.\n",
      "  km = km.append(pd.DataFrame([[t, n, d, s]],\n",
      "/tmp/ipykernel_783935/2485954959.py:11: FutureWarning: The frame.append method is deprecated and will be removed from pandas in a future version. Use pandas.concat instead.\n",
      "  km = km.append(pd.DataFrame([[t, n, d, s]],\n",
      "/tmp/ipykernel_783935/2485954959.py:11: FutureWarning: The frame.append method is deprecated and will be removed from pandas in a future version. Use pandas.concat instead.\n",
      "  km = km.append(pd.DataFrame([[t, n, d, s]],\n",
      "/tmp/ipykernel_783935/2485954959.py:11: FutureWarning: The frame.append method is deprecated and will be removed from pandas in a future version. Use pandas.concat instead.\n",
      "  km = km.append(pd.DataFrame([[t, n, d, s]],\n",
      "/tmp/ipykernel_783935/2485954959.py:11: FutureWarning: The frame.append method is deprecated and will be removed from pandas in a future version. Use pandas.concat instead.\n",
      "  km = km.append(pd.DataFrame([[t, n, d, s]],\n",
      "/tmp/ipykernel_783935/2485954959.py:11: FutureWarning: The frame.append method is deprecated and will be removed from pandas in a future version. Use pandas.concat instead.\n",
      "  km = km.append(pd.DataFrame([[t, n, d, s]],\n",
      "/tmp/ipykernel_783935/2485954959.py:11: FutureWarning: The frame.append method is deprecated and will be removed from pandas in a future version. Use pandas.concat instead.\n",
      "  km = km.append(pd.DataFrame([[t, n, d, s]],\n",
      "/tmp/ipykernel_783935/2485954959.py:11: FutureWarning: The frame.append method is deprecated and will be removed from pandas in a future version. Use pandas.concat instead.\n",
      "  km = km.append(pd.DataFrame([[t, n, d, s]],\n",
      "/tmp/ipykernel_783935/2485954959.py:11: FutureWarning: The frame.append method is deprecated and will be removed from pandas in a future version. Use pandas.concat instead.\n",
      "  km = km.append(pd.DataFrame([[t, n, d, s]],\n",
      "/tmp/ipykernel_783935/2485954959.py:11: FutureWarning: The frame.append method is deprecated and will be removed from pandas in a future version. Use pandas.concat instead.\n",
      "  km = km.append(pd.DataFrame([[t, n, d, s]],\n",
      "/tmp/ipykernel_783935/2485954959.py:11: FutureWarning: The frame.append method is deprecated and will be removed from pandas in a future version. Use pandas.concat instead.\n",
      "  km = km.append(pd.DataFrame([[t, n, d, s]],\n",
      "/tmp/ipykernel_783935/2485954959.py:11: FutureWarning: The frame.append method is deprecated and will be removed from pandas in a future version. Use pandas.concat instead.\n",
      "  km = km.append(pd.DataFrame([[t, n, d, s]],\n",
      "/tmp/ipykernel_783935/2485954959.py:11: FutureWarning: The frame.append method is deprecated and will be removed from pandas in a future version. Use pandas.concat instead.\n",
      "  km = km.append(pd.DataFrame([[t, n, d, s]],\n",
      "/tmp/ipykernel_783935/2485954959.py:11: FutureWarning: The frame.append method is deprecated and will be removed from pandas in a future version. Use pandas.concat instead.\n",
      "  km = km.append(pd.DataFrame([[t, n, d, s]],\n",
      "/tmp/ipykernel_783935/2485954959.py:11: FutureWarning: The frame.append method is deprecated and will be removed from pandas in a future version. Use pandas.concat instead.\n",
      "  km = km.append(pd.DataFrame([[t, n, d, s]],\n",
      "/tmp/ipykernel_783935/2485954959.py:11: FutureWarning: The frame.append method is deprecated and will be removed from pandas in a future version. Use pandas.concat instead.\n",
      "  km = km.append(pd.DataFrame([[t, n, d, s]],\n",
      "/tmp/ipykernel_783935/2485954959.py:11: FutureWarning: The frame.append method is deprecated and will be removed from pandas in a future version. Use pandas.concat instead.\n",
      "  km = km.append(pd.DataFrame([[t, n, d, s]],\n",
      "/tmp/ipykernel_783935/2485954959.py:11: FutureWarning: The frame.append method is deprecated and will be removed from pandas in a future version. Use pandas.concat instead.\n",
      "  km = km.append(pd.DataFrame([[t, n, d, s]],\n",
      "/tmp/ipykernel_783935/2485954959.py:11: FutureWarning: The frame.append method is deprecated and will be removed from pandas in a future version. Use pandas.concat instead.\n",
      "  km = km.append(pd.DataFrame([[t, n, d, s]],\n",
      "/tmp/ipykernel_783935/2485954959.py:11: FutureWarning: The frame.append method is deprecated and will be removed from pandas in a future version. Use pandas.concat instead.\n",
      "  km = km.append(pd.DataFrame([[t, n, d, s]],\n",
      "/tmp/ipykernel_783935/2485954959.py:11: FutureWarning: The frame.append method is deprecated and will be removed from pandas in a future version. Use pandas.concat instead.\n",
      "  km = km.append(pd.DataFrame([[t, n, d, s]],\n",
      "/tmp/ipykernel_783935/2485954959.py:11: FutureWarning: The frame.append method is deprecated and will be removed from pandas in a future version. Use pandas.concat instead.\n",
      "  km = km.append(pd.DataFrame([[t, n, d, s]],\n",
      "/tmp/ipykernel_783935/2485954959.py:11: FutureWarning: The frame.append method is deprecated and will be removed from pandas in a future version. Use pandas.concat instead.\n",
      "  km = km.append(pd.DataFrame([[t, n, d, s]],\n",
      "/tmp/ipykernel_783935/2485954959.py:11: FutureWarning: The frame.append method is deprecated and will be removed from pandas in a future version. Use pandas.concat instead.\n",
      "  km = km.append(pd.DataFrame([[t, n, d, s]],\n",
      "/tmp/ipykernel_783935/2485954959.py:11: FutureWarning: The frame.append method is deprecated and will be removed from pandas in a future version. Use pandas.concat instead.\n",
      "  km = km.append(pd.DataFrame([[t, n, d, s]],\n",
      "/tmp/ipykernel_783935/2485954959.py:11: FutureWarning: The frame.append method is deprecated and will be removed from pandas in a future version. Use pandas.concat instead.\n",
      "  km = km.append(pd.DataFrame([[t, n, d, s]],\n",
      "/tmp/ipykernel_783935/2485954959.py:11: FutureWarning: The frame.append method is deprecated and will be removed from pandas in a future version. Use pandas.concat instead.\n",
      "  km = km.append(pd.DataFrame([[t, n, d, s]],\n",
      "/tmp/ipykernel_783935/2485954959.py:11: FutureWarning: The frame.append method is deprecated and will be removed from pandas in a future version. Use pandas.concat instead.\n",
      "  km = km.append(pd.DataFrame([[t, n, d, s]],\n",
      "/tmp/ipykernel_783935/2485954959.py:11: FutureWarning: The frame.append method is deprecated and will be removed from pandas in a future version. Use pandas.concat instead.\n",
      "  km = km.append(pd.DataFrame([[t, n, d, s]],\n",
      "/tmp/ipykernel_783935/2485954959.py:11: FutureWarning: The frame.append method is deprecated and will be removed from pandas in a future version. Use pandas.concat instead.\n",
      "  km = km.append(pd.DataFrame([[t, n, d, s]],\n",
      "/tmp/ipykernel_783935/2485954959.py:11: FutureWarning: The frame.append method is deprecated and will be removed from pandas in a future version. Use pandas.concat instead.\n",
      "  km = km.append(pd.DataFrame([[t, n, d, s]],\n",
      "/tmp/ipykernel_783935/2485954959.py:11: FutureWarning: The frame.append method is deprecated and will be removed from pandas in a future version. Use pandas.concat instead.\n",
      "  km = km.append(pd.DataFrame([[t, n, d, s]],\n",
      "/tmp/ipykernel_783935/2485954959.py:11: FutureWarning: The frame.append method is deprecated and will be removed from pandas in a future version. Use pandas.concat instead.\n",
      "  km = km.append(pd.DataFrame([[t, n, d, s]],\n",
      "/tmp/ipykernel_783935/2485954959.py:11: FutureWarning: The frame.append method is deprecated and will be removed from pandas in a future version. Use pandas.concat instead.\n",
      "  km = km.append(pd.DataFrame([[t, n, d, s]],\n",
      "/tmp/ipykernel_783935/2485954959.py:11: FutureWarning: The frame.append method is deprecated and will be removed from pandas in a future version. Use pandas.concat instead.\n",
      "  km = km.append(pd.DataFrame([[t, n, d, s]],\n",
      "/tmp/ipykernel_783935/2485954959.py:11: FutureWarning: The frame.append method is deprecated and will be removed from pandas in a future version. Use pandas.concat instead.\n",
      "  km = km.append(pd.DataFrame([[t, n, d, s]],\n",
      "/tmp/ipykernel_783935/2485954959.py:11: FutureWarning: The frame.append method is deprecated and will be removed from pandas in a future version. Use pandas.concat instead.\n",
      "  km = km.append(pd.DataFrame([[t, n, d, s]],\n",
      "/tmp/ipykernel_783935/2485954959.py:11: FutureWarning: The frame.append method is deprecated and will be removed from pandas in a future version. Use pandas.concat instead.\n",
      "  km = km.append(pd.DataFrame([[t, n, d, s]],\n",
      "/tmp/ipykernel_783935/2485954959.py:11: FutureWarning: The frame.append method is deprecated and will be removed from pandas in a future version. Use pandas.concat instead.\n",
      "  km = km.append(pd.DataFrame([[t, n, d, s]],\n",
      "/tmp/ipykernel_783935/2485954959.py:11: FutureWarning: The frame.append method is deprecated and will be removed from pandas in a future version. Use pandas.concat instead.\n",
      "  km = km.append(pd.DataFrame([[t, n, d, s]],\n",
      "/tmp/ipykernel_783935/2485954959.py:11: FutureWarning: The frame.append method is deprecated and will be removed from pandas in a future version. Use pandas.concat instead.\n",
      "  km = km.append(pd.DataFrame([[t, n, d, s]],\n",
      "/tmp/ipykernel_783935/2485954959.py:11: FutureWarning: The frame.append method is deprecated and will be removed from pandas in a future version. Use pandas.concat instead.\n",
      "  km = km.append(pd.DataFrame([[t, n, d, s]],\n",
      "/tmp/ipykernel_783935/2485954959.py:11: FutureWarning: The frame.append method is deprecated and will be removed from pandas in a future version. Use pandas.concat instead.\n",
      "  km = km.append(pd.DataFrame([[t, n, d, s]],\n",
      "/tmp/ipykernel_783935/2485954959.py:11: FutureWarning: The frame.append method is deprecated and will be removed from pandas in a future version. Use pandas.concat instead.\n",
      "  km = km.append(pd.DataFrame([[t, n, d, s]],\n",
      "/tmp/ipykernel_783935/2485954959.py:11: FutureWarning: The frame.append method is deprecated and will be removed from pandas in a future version. Use pandas.concat instead.\n",
      "  km = km.append(pd.DataFrame([[t, n, d, s]],\n",
      "/tmp/ipykernel_783935/2485954959.py:11: FutureWarning: The frame.append method is deprecated and will be removed from pandas in a future version. Use pandas.concat instead.\n",
      "  km = km.append(pd.DataFrame([[t, n, d, s]],\n",
      "/tmp/ipykernel_783935/2485954959.py:11: FutureWarning: The frame.append method is deprecated and will be removed from pandas in a future version. Use pandas.concat instead.\n",
      "  km = km.append(pd.DataFrame([[t, n, d, s]],\n",
      "/tmp/ipykernel_783935/2485954959.py:11: FutureWarning: The frame.append method is deprecated and will be removed from pandas in a future version. Use pandas.concat instead.\n",
      "  km = km.append(pd.DataFrame([[t, n, d, s]],\n",
      "/tmp/ipykernel_783935/2485954959.py:11: FutureWarning: The frame.append method is deprecated and will be removed from pandas in a future version. Use pandas.concat instead.\n",
      "  km = km.append(pd.DataFrame([[t, n, d, s]],\n",
      "/tmp/ipykernel_783935/2485954959.py:11: FutureWarning: The frame.append method is deprecated and will be removed from pandas in a future version. Use pandas.concat instead.\n",
      "  km = km.append(pd.DataFrame([[t, n, d, s]],\n",
      "/tmp/ipykernel_783935/2485954959.py:11: FutureWarning: The frame.append method is deprecated and will be removed from pandas in a future version. Use pandas.concat instead.\n",
      "  km = km.append(pd.DataFrame([[t, n, d, s]],\n",
      "/tmp/ipykernel_783935/2485954959.py:11: FutureWarning: The frame.append method is deprecated and will be removed from pandas in a future version. Use pandas.concat instead.\n",
      "  km = km.append(pd.DataFrame([[t, n, d, s]],\n",
      "/tmp/ipykernel_783935/2485954959.py:11: FutureWarning: The frame.append method is deprecated and will be removed from pandas in a future version. Use pandas.concat instead.\n",
      "  km = km.append(pd.DataFrame([[t, n, d, s]],\n",
      "/tmp/ipykernel_783935/2485954959.py:11: FutureWarning: The frame.append method is deprecated and will be removed from pandas in a future version. Use pandas.concat instead.\n",
      "  km = km.append(pd.DataFrame([[t, n, d, s]],\n",
      "/tmp/ipykernel_783935/2485954959.py:11: FutureWarning: The frame.append method is deprecated and will be removed from pandas in a future version. Use pandas.concat instead.\n",
      "  km = km.append(pd.DataFrame([[t, n, d, s]],\n"
     ]
    },
    {
     "data": {
      "text/html": [
       "<div>\n",
       "<style scoped>\n",
       "    .dataframe tbody tr th:only-of-type {\n",
       "        vertical-align: middle;\n",
       "    }\n",
       "\n",
       "    .dataframe tbody tr th {\n",
       "        vertical-align: top;\n",
       "    }\n",
       "\n",
       "    .dataframe thead th {\n",
       "        text-align: right;\n",
       "    }\n",
       "</style>\n",
       "<table border=\"1\" class=\"dataframe\">\n",
       "  <thead>\n",
       "    <tr style=\"text-align: right;\">\n",
       "      <th></th>\n",
       "      <th>Survival.time</th>\n",
       "      <th>Clinical.T.stage</th>\n",
       "      <th>Clinical.N.stage</th>\n",
       "      <th>Deadstatus.event</th>\n",
       "    </tr>\n",
       "  </thead>\n",
       "  <tbody>\n",
       "    <tr>\n",
       "      <th>0</th>\n",
       "      <td>0.0</td>\n",
       "      <td>154.0</td>\n",
       "      <td>0.0</td>\n",
       "      <td>1.0</td>\n",
       "    </tr>\n",
       "    <tr>\n",
       "      <th>1</th>\n",
       "      <td>0.0</td>\n",
       "      <td>154.0</td>\n",
       "      <td>0.0</td>\n",
       "      <td>0.0</td>\n",
       "    </tr>\n",
       "    <tr>\n",
       "      <th>2</th>\n",
       "      <td>2.0</td>\n",
       "      <td>153.0</td>\n",
       "      <td>0.0</td>\n",
       "      <td>0.0</td>\n",
       "    </tr>\n",
       "    <tr>\n",
       "      <th>3</th>\n",
       "      <td>5.0</td>\n",
       "      <td>152.0</td>\n",
       "      <td>0.0</td>\n",
       "      <td>2.0</td>\n",
       "    </tr>\n",
       "    <tr>\n",
       "      <th>4</th>\n",
       "      <td>6.0</td>\n",
       "      <td>151.0</td>\n",
       "      <td>0.0</td>\n",
       "      <td>5.0</td>\n",
       "    </tr>\n",
       "    <tr>\n",
       "      <th>...</th>\n",
       "      <td>...</td>\n",
       "      <td>...</td>\n",
       "      <td>...</td>\n",
       "      <td>...</td>\n",
       "    </tr>\n",
       "    <tr>\n",
       "      <th>117</th>\n",
       "      <td>443.0</td>\n",
       "      <td>6.0</td>\n",
       "      <td>0.0</td>\n",
       "      <td>436.0</td>\n",
       "    </tr>\n",
       "    <tr>\n",
       "      <th>118</th>\n",
       "      <td>448.0</td>\n",
       "      <td>4.0</td>\n",
       "      <td>0.0</td>\n",
       "      <td>443.0</td>\n",
       "    </tr>\n",
       "    <tr>\n",
       "      <th>119</th>\n",
       "      <td>449.0</td>\n",
       "      <td>3.0</td>\n",
       "      <td>0.0</td>\n",
       "      <td>448.0</td>\n",
       "    </tr>\n",
       "    <tr>\n",
       "      <th>120</th>\n",
       "      <td>463.0</td>\n",
       "      <td>2.0</td>\n",
       "      <td>0.0</td>\n",
       "      <td>449.0</td>\n",
       "    </tr>\n",
       "    <tr>\n",
       "      <th>121</th>\n",
       "      <td>468.0</td>\n",
       "      <td>1.0</td>\n",
       "      <td>0.0</td>\n",
       "      <td>463.0</td>\n",
       "    </tr>\n",
       "  </tbody>\n",
       "</table>\n",
       "<p>122 rows × 4 columns</p>\n",
       "</div>"
      ],
      "text/plain": [
       "     Survival.time  Clinical.T.stage  Clinical.N.stage  Deadstatus.event\n",
       "0              0.0             154.0               0.0               1.0\n",
       "1              0.0             154.0               0.0               0.0\n",
       "2              2.0             153.0               0.0               0.0\n",
       "3              5.0             152.0               0.0               2.0\n",
       "4              6.0             151.0               0.0               5.0\n",
       "..             ...               ...               ...               ...\n",
       "117          443.0               6.0               0.0             436.0\n",
       "118          448.0               4.0               0.0             443.0\n",
       "119          449.0               3.0               0.0             448.0\n",
       "120          463.0               2.0               0.0             449.0\n",
       "121          468.0               1.0               0.0             463.0\n",
       "\n",
       "[122 rows x 4 columns]"
      ]
     },
     "execution_count": 28,
     "metadata": {},
     "output_type": "execute_result"
    }
   ],
   "source": [
    "# Prepare unique durations in ascending order\n",
    "durations = df_clinical_train.sort_values('Survival.time')['Survival.time'].unique()# Initialise the table\n",
    "columns = ['Survival.time', 'Clinical.T.stage', 'Clinical.N.stage','Deadstatus.event']\n",
    "km = pd.DataFrame(columns=columns, dtype=np.number)\n",
    "km = km.append(pd.DataFrame([[0, df_clinical_train.shape[0], 0, 1]], \n",
    "                            columns=columns))# Calculate survival probability for each duration\n",
    "for i, t in enumerate(durations):\n",
    "    n = np.sum(df_clinical_train['Survival.time']>=t)\n",
    "    d = np.sum((df_clinical_train['Survival.time']==t) & (df_clinical_train['Deadstatus.event']==1))\n",
    "    s = (1 - d / n) * km.loc[i, 'Survival.time']\n",
    "    km = km.append(pd.DataFrame([[t, n, d, s]], \n",
    "                                index=[i+1],\n",
    "                                columns=columns))\n",
    "km"
   ]
  },
  {
   "cell_type": "code",
   "execution_count": 29,
   "id": "8dc4c912",
   "metadata": {},
   "outputs": [
    {
     "ename": "ValueError",
     "evalue": "Could not interpret value `duration` for parameter `x`",
     "output_type": "error",
     "traceback": [
      "\u001b[0;31m---------------------------------------------------------------------------\u001b[0m",
      "\u001b[0;31mValueError\u001b[0m                                Traceback (most recent call last)",
      "Input \u001b[0;32mIn [29]\u001b[0m, in \u001b[0;36m<cell line: 2>\u001b[0;34m()\u001b[0m\n\u001b[1;32m      1\u001b[0m plt\u001b[38;5;241m.\u001b[39mfigure(figsize\u001b[38;5;241m=\u001b[39m(\u001b[38;5;241m8\u001b[39m,\u001b[38;5;241m4\u001b[39m))\n\u001b[0;32m----> 2\u001b[0m \u001b[43msns\u001b[49m\u001b[38;5;241;43m.\u001b[39;49m\u001b[43mlineplot\u001b[49m\u001b[43m(\u001b[49m\u001b[43mdata\u001b[49m\u001b[38;5;241;43m=\u001b[39;49m\u001b[43mkm\u001b[49m\u001b[43m,\u001b[49m\u001b[43m \u001b[49m\u001b[43mx\u001b[49m\u001b[38;5;241;43m=\u001b[39;49m\u001b[38;5;124;43m'\u001b[39;49m\u001b[38;5;124;43mduration\u001b[39;49m\u001b[38;5;124;43m'\u001b[39;49m\u001b[43m,\u001b[49m\u001b[43m \u001b[49m\u001b[43my\u001b[49m\u001b[38;5;241;43m=\u001b[39;49m\u001b[38;5;124;43m'\u001b[39;49m\u001b[38;5;124;43msurvival_probability\u001b[39;49m\u001b[38;5;124;43m'\u001b[39;49m\u001b[43m,\u001b[49m\u001b[43m \u001b[49m\n\u001b[1;32m      3\u001b[0m \u001b[43m             \u001b[49m\u001b[43mdrawstyle\u001b[49m\u001b[38;5;241;43m=\u001b[39;49m\u001b[38;5;124;43m'\u001b[39;49m\u001b[38;5;124;43msteps-post\u001b[39;49m\u001b[38;5;124;43m'\u001b[39;49m\u001b[43m)\u001b[49m\n\u001b[1;32m      4\u001b[0m plt\u001b[38;5;241m.\u001b[39mylim(\u001b[38;5;241m0\u001b[39m,\u001b[38;5;241m1.1\u001b[39m) \n\u001b[1;32m      5\u001b[0m plt\u001b[38;5;241m.\u001b[39mtitle(\u001b[38;5;124m\"\u001b[39m\u001b[38;5;124mKaplan-Meier curve\u001b[39m\u001b[38;5;124m\"\u001b[39m)\n",
      "File \u001b[0;32m~/miniconda3/envs/pytorch/lib/python3.9/site-packages/seaborn/_decorators.py:46\u001b[0m, in \u001b[0;36m_deprecate_positional_args.<locals>.inner_f\u001b[0;34m(*args, **kwargs)\u001b[0m\n\u001b[1;32m     36\u001b[0m     warnings\u001b[38;5;241m.\u001b[39mwarn(\n\u001b[1;32m     37\u001b[0m         \u001b[38;5;124m\"\u001b[39m\u001b[38;5;124mPass the following variable\u001b[39m\u001b[38;5;132;01m{}\u001b[39;00m\u001b[38;5;124m as \u001b[39m\u001b[38;5;132;01m{}\u001b[39;00m\u001b[38;5;124mkeyword arg\u001b[39m\u001b[38;5;132;01m{}\u001b[39;00m\u001b[38;5;124m: \u001b[39m\u001b[38;5;132;01m{}\u001b[39;00m\u001b[38;5;124m. \u001b[39m\u001b[38;5;124m\"\u001b[39m\n\u001b[1;32m     38\u001b[0m         \u001b[38;5;124m\"\u001b[39m\u001b[38;5;124mFrom version 0.12, the only valid positional argument \u001b[39m\u001b[38;5;124m\"\u001b[39m\n\u001b[0;32m   (...)\u001b[0m\n\u001b[1;32m     43\u001b[0m         \u001b[38;5;167;01mFutureWarning\u001b[39;00m\n\u001b[1;32m     44\u001b[0m     )\n\u001b[1;32m     45\u001b[0m kwargs\u001b[38;5;241m.\u001b[39mupdate({k: arg \u001b[38;5;28;01mfor\u001b[39;00m k, arg \u001b[38;5;129;01min\u001b[39;00m \u001b[38;5;28mzip\u001b[39m(sig\u001b[38;5;241m.\u001b[39mparameters, args)})\n\u001b[0;32m---> 46\u001b[0m \u001b[38;5;28;01mreturn\u001b[39;00m \u001b[43mf\u001b[49m\u001b[43m(\u001b[49m\u001b[38;5;241;43m*\u001b[39;49m\u001b[38;5;241;43m*\u001b[39;49m\u001b[43mkwargs\u001b[49m\u001b[43m)\u001b[49m\n",
      "File \u001b[0;32m~/miniconda3/envs/pytorch/lib/python3.9/site-packages/seaborn/relational.py:692\u001b[0m, in \u001b[0;36mlineplot\u001b[0;34m(x, y, hue, size, style, data, palette, hue_order, hue_norm, sizes, size_order, size_norm, dashes, markers, style_order, units, estimator, ci, n_boot, seed, sort, err_style, err_kws, legend, ax, **kwargs)\u001b[0m\n\u001b[1;32m    677\u001b[0m \u001b[38;5;129m@_deprecate_positional_args\u001b[39m\n\u001b[1;32m    678\u001b[0m \u001b[38;5;28;01mdef\u001b[39;00m \u001b[38;5;21mlineplot\u001b[39m(\n\u001b[1;32m    679\u001b[0m     \u001b[38;5;241m*\u001b[39m,\n\u001b[0;32m   (...)\u001b[0m\n\u001b[1;32m    688\u001b[0m     legend\u001b[38;5;241m=\u001b[39m\u001b[38;5;124m\"\u001b[39m\u001b[38;5;124mauto\u001b[39m\u001b[38;5;124m\"\u001b[39m, ax\u001b[38;5;241m=\u001b[39m\u001b[38;5;28;01mNone\u001b[39;00m, \u001b[38;5;241m*\u001b[39m\u001b[38;5;241m*\u001b[39mkwargs\n\u001b[1;32m    689\u001b[0m ):\n\u001b[1;32m    691\u001b[0m     variables \u001b[38;5;241m=\u001b[39m _LinePlotter\u001b[38;5;241m.\u001b[39mget_semantics(\u001b[38;5;28mlocals\u001b[39m())\n\u001b[0;32m--> 692\u001b[0m     p \u001b[38;5;241m=\u001b[39m \u001b[43m_LinePlotter\u001b[49m\u001b[43m(\u001b[49m\n\u001b[1;32m    693\u001b[0m \u001b[43m        \u001b[49m\u001b[43mdata\u001b[49m\u001b[38;5;241;43m=\u001b[39;49m\u001b[43mdata\u001b[49m\u001b[43m,\u001b[49m\u001b[43m \u001b[49m\u001b[43mvariables\u001b[49m\u001b[38;5;241;43m=\u001b[39;49m\u001b[43mvariables\u001b[49m\u001b[43m,\u001b[49m\n\u001b[1;32m    694\u001b[0m \u001b[43m        \u001b[49m\u001b[43mestimator\u001b[49m\u001b[38;5;241;43m=\u001b[39;49m\u001b[43mestimator\u001b[49m\u001b[43m,\u001b[49m\u001b[43m \u001b[49m\u001b[43mci\u001b[49m\u001b[38;5;241;43m=\u001b[39;49m\u001b[43mci\u001b[49m\u001b[43m,\u001b[49m\u001b[43m \u001b[49m\u001b[43mn_boot\u001b[49m\u001b[38;5;241;43m=\u001b[39;49m\u001b[43mn_boot\u001b[49m\u001b[43m,\u001b[49m\u001b[43m \u001b[49m\u001b[43mseed\u001b[49m\u001b[38;5;241;43m=\u001b[39;49m\u001b[43mseed\u001b[49m\u001b[43m,\u001b[49m\n\u001b[1;32m    695\u001b[0m \u001b[43m        \u001b[49m\u001b[43msort\u001b[49m\u001b[38;5;241;43m=\u001b[39;49m\u001b[43msort\u001b[49m\u001b[43m,\u001b[49m\u001b[43m \u001b[49m\u001b[43merr_style\u001b[49m\u001b[38;5;241;43m=\u001b[39;49m\u001b[43merr_style\u001b[49m\u001b[43m,\u001b[49m\u001b[43m \u001b[49m\u001b[43merr_kws\u001b[49m\u001b[38;5;241;43m=\u001b[39;49m\u001b[43merr_kws\u001b[49m\u001b[43m,\u001b[49m\u001b[43m \u001b[49m\u001b[43mlegend\u001b[49m\u001b[38;5;241;43m=\u001b[39;49m\u001b[43mlegend\u001b[49m\u001b[43m,\u001b[49m\n\u001b[1;32m    696\u001b[0m \u001b[43m    \u001b[49m\u001b[43m)\u001b[49m\n\u001b[1;32m    698\u001b[0m     p\u001b[38;5;241m.\u001b[39mmap_hue(palette\u001b[38;5;241m=\u001b[39mpalette, order\u001b[38;5;241m=\u001b[39mhue_order, norm\u001b[38;5;241m=\u001b[39mhue_norm)\n\u001b[1;32m    699\u001b[0m     p\u001b[38;5;241m.\u001b[39mmap_size(sizes\u001b[38;5;241m=\u001b[39msizes, order\u001b[38;5;241m=\u001b[39msize_order, norm\u001b[38;5;241m=\u001b[39msize_norm)\n",
      "File \u001b[0;32m~/miniconda3/envs/pytorch/lib/python3.9/site-packages/seaborn/relational.py:367\u001b[0m, in \u001b[0;36m_LinePlotter.__init__\u001b[0;34m(self, data, variables, estimator, ci, n_boot, seed, sort, err_style, err_kws, legend)\u001b[0m\n\u001b[1;32m    353\u001b[0m \u001b[38;5;28;01mdef\u001b[39;00m \u001b[38;5;21m__init__\u001b[39m(\n\u001b[1;32m    354\u001b[0m     \u001b[38;5;28mself\u001b[39m, \u001b[38;5;241m*\u001b[39m,\n\u001b[1;32m    355\u001b[0m     data\u001b[38;5;241m=\u001b[39m\u001b[38;5;28;01mNone\u001b[39;00m, variables\u001b[38;5;241m=\u001b[39m{},\n\u001b[0;32m   (...)\u001b[0m\n\u001b[1;32m    361\u001b[0m     \u001b[38;5;66;03m# the kind of plot to draw, but for the time being we need to set\u001b[39;00m\n\u001b[1;32m    362\u001b[0m     \u001b[38;5;66;03m# this information so the SizeMapping can use it\u001b[39;00m\n\u001b[1;32m    363\u001b[0m     \u001b[38;5;28mself\u001b[39m\u001b[38;5;241m.\u001b[39m_default_size_range \u001b[38;5;241m=\u001b[39m (\n\u001b[1;32m    364\u001b[0m         np\u001b[38;5;241m.\u001b[39mr_[\u001b[38;5;241m.5\u001b[39m, \u001b[38;5;241m2\u001b[39m] \u001b[38;5;241m*\u001b[39m mpl\u001b[38;5;241m.\u001b[39mrcParams[\u001b[38;5;124m\"\u001b[39m\u001b[38;5;124mlines.linewidth\u001b[39m\u001b[38;5;124m\"\u001b[39m]\n\u001b[1;32m    365\u001b[0m     )\n\u001b[0;32m--> 367\u001b[0m     \u001b[38;5;28;43msuper\u001b[39;49m\u001b[43m(\u001b[49m\u001b[43m)\u001b[49m\u001b[38;5;241;43m.\u001b[39;49m\u001b[38;5;21;43m__init__\u001b[39;49m\u001b[43m(\u001b[49m\u001b[43mdata\u001b[49m\u001b[38;5;241;43m=\u001b[39;49m\u001b[43mdata\u001b[49m\u001b[43m,\u001b[49m\u001b[43m \u001b[49m\u001b[43mvariables\u001b[49m\u001b[38;5;241;43m=\u001b[39;49m\u001b[43mvariables\u001b[49m\u001b[43m)\u001b[49m\n\u001b[1;32m    369\u001b[0m     \u001b[38;5;28mself\u001b[39m\u001b[38;5;241m.\u001b[39mestimator \u001b[38;5;241m=\u001b[39m estimator\n\u001b[1;32m    370\u001b[0m     \u001b[38;5;28mself\u001b[39m\u001b[38;5;241m.\u001b[39mci \u001b[38;5;241m=\u001b[39m ci\n",
      "File \u001b[0;32m~/miniconda3/envs/pytorch/lib/python3.9/site-packages/seaborn/_core.py:605\u001b[0m, in \u001b[0;36mVectorPlotter.__init__\u001b[0;34m(self, data, variables)\u001b[0m\n\u001b[1;32m    603\u001b[0m \u001b[38;5;28;01mdef\u001b[39;00m \u001b[38;5;21m__init__\u001b[39m(\u001b[38;5;28mself\u001b[39m, data\u001b[38;5;241m=\u001b[39m\u001b[38;5;28;01mNone\u001b[39;00m, variables\u001b[38;5;241m=\u001b[39m{}):\n\u001b[0;32m--> 605\u001b[0m     \u001b[38;5;28;43mself\u001b[39;49m\u001b[38;5;241;43m.\u001b[39;49m\u001b[43massign_variables\u001b[49m\u001b[43m(\u001b[49m\u001b[43mdata\u001b[49m\u001b[43m,\u001b[49m\u001b[43m \u001b[49m\u001b[43mvariables\u001b[49m\u001b[43m)\u001b[49m\n\u001b[1;32m    607\u001b[0m     \u001b[38;5;28;01mfor\u001b[39;00m var, \u001b[38;5;28mcls\u001b[39m \u001b[38;5;129;01min\u001b[39;00m \u001b[38;5;28mself\u001b[39m\u001b[38;5;241m.\u001b[39m_semantic_mappings\u001b[38;5;241m.\u001b[39mitems():\n\u001b[1;32m    608\u001b[0m \n\u001b[1;32m    609\u001b[0m         \u001b[38;5;66;03m# Create the mapping function\u001b[39;00m\n\u001b[1;32m    610\u001b[0m         map_func \u001b[38;5;241m=\u001b[39m partial(\u001b[38;5;28mcls\u001b[39m\u001b[38;5;241m.\u001b[39mmap, plotter\u001b[38;5;241m=\u001b[39m\u001b[38;5;28mself\u001b[39m)\n",
      "File \u001b[0;32m~/miniconda3/envs/pytorch/lib/python3.9/site-packages/seaborn/_core.py:668\u001b[0m, in \u001b[0;36mVectorPlotter.assign_variables\u001b[0;34m(self, data, variables)\u001b[0m\n\u001b[1;32m    666\u001b[0m \u001b[38;5;28;01melse\u001b[39;00m:\n\u001b[1;32m    667\u001b[0m     \u001b[38;5;28mself\u001b[39m\u001b[38;5;241m.\u001b[39minput_format \u001b[38;5;241m=\u001b[39m \u001b[38;5;124m\"\u001b[39m\u001b[38;5;124mlong\u001b[39m\u001b[38;5;124m\"\u001b[39m\n\u001b[0;32m--> 668\u001b[0m     plot_data, variables \u001b[38;5;241m=\u001b[39m \u001b[38;5;28;43mself\u001b[39;49m\u001b[38;5;241;43m.\u001b[39;49m\u001b[43m_assign_variables_longform\u001b[49m\u001b[43m(\u001b[49m\n\u001b[1;32m    669\u001b[0m \u001b[43m        \u001b[49m\u001b[43mdata\u001b[49m\u001b[43m,\u001b[49m\u001b[43m \u001b[49m\u001b[38;5;241;43m*\u001b[39;49m\u001b[38;5;241;43m*\u001b[39;49m\u001b[43mvariables\u001b[49m\u001b[43m,\u001b[49m\n\u001b[1;32m    670\u001b[0m \u001b[43m    \u001b[49m\u001b[43m)\u001b[49m\n\u001b[1;32m    672\u001b[0m \u001b[38;5;28mself\u001b[39m\u001b[38;5;241m.\u001b[39mplot_data \u001b[38;5;241m=\u001b[39m plot_data\n\u001b[1;32m    673\u001b[0m \u001b[38;5;28mself\u001b[39m\u001b[38;5;241m.\u001b[39mvariables \u001b[38;5;241m=\u001b[39m variables\n",
      "File \u001b[0;32m~/miniconda3/envs/pytorch/lib/python3.9/site-packages/seaborn/_core.py:903\u001b[0m, in \u001b[0;36mVectorPlotter._assign_variables_longform\u001b[0;34m(self, data, **kwargs)\u001b[0m\n\u001b[1;32m    898\u001b[0m \u001b[38;5;28;01melif\u001b[39;00m \u001b[38;5;28misinstance\u001b[39m(val, (\u001b[38;5;28mstr\u001b[39m, \u001b[38;5;28mbytes\u001b[39m)):\n\u001b[1;32m    899\u001b[0m \n\u001b[1;32m    900\u001b[0m     \u001b[38;5;66;03m# This looks like a column name but we don't know what it means!\u001b[39;00m\n\u001b[1;32m    902\u001b[0m     err \u001b[38;5;241m=\u001b[39m \u001b[38;5;124mf\u001b[39m\u001b[38;5;124m\"\u001b[39m\u001b[38;5;124mCould not interpret value `\u001b[39m\u001b[38;5;132;01m{\u001b[39;00mval\u001b[38;5;132;01m}\u001b[39;00m\u001b[38;5;124m` for parameter `\u001b[39m\u001b[38;5;132;01m{\u001b[39;00mkey\u001b[38;5;132;01m}\u001b[39;00m\u001b[38;5;124m`\u001b[39m\u001b[38;5;124m\"\u001b[39m\n\u001b[0;32m--> 903\u001b[0m     \u001b[38;5;28;01mraise\u001b[39;00m \u001b[38;5;167;01mValueError\u001b[39;00m(err)\n\u001b[1;32m    905\u001b[0m \u001b[38;5;28;01melse\u001b[39;00m:\n\u001b[1;32m    906\u001b[0m \n\u001b[1;32m    907\u001b[0m     \u001b[38;5;66;03m# Otherwise, assume the value is itself data\u001b[39;00m\n\u001b[1;32m    908\u001b[0m \n\u001b[1;32m    909\u001b[0m     \u001b[38;5;66;03m# Raise when data object is present and a vector can't matched\u001b[39;00m\n\u001b[1;32m    910\u001b[0m     \u001b[38;5;28;01mif\u001b[39;00m \u001b[38;5;28misinstance\u001b[39m(data, pd\u001b[38;5;241m.\u001b[39mDataFrame) \u001b[38;5;129;01mand\u001b[39;00m \u001b[38;5;129;01mnot\u001b[39;00m \u001b[38;5;28misinstance\u001b[39m(val, pd\u001b[38;5;241m.\u001b[39mSeries):\n",
      "\u001b[0;31mValueError\u001b[0m: Could not interpret value `duration` for parameter `x`"
     ]
    },
    {
     "data": {
      "text/plain": [
       "<Figure size 576x288 with 0 Axes>"
      ]
     },
     "metadata": {},
     "output_type": "display_data"
    }
   ],
   "source": [
    "plt.figure(figsize=(8,4))\n",
    "sns.lineplot(data=km, x='duration', y='survival_probability', \n",
    "             drawstyle='steps-post')\n",
    "plt.ylim(0,1.1) \n",
    "plt.title(\"Kaplan-Meier curve\");"
   ]
  },
  {
   "cell_type": "code",
   "execution_count": 30,
   "id": "0157c462",
   "metadata": {},
   "outputs": [],
   "source": [
    "def getSec(s):\n",
    "    b =int(s[0:2]) *3600 + int(s[2:4])*60 + int(s[4:6])\n",
    "    return b"
   ]
  },
  {
   "cell_type": "code",
   "execution_count": 31,
   "id": "3e2389a3",
   "metadata": {
    "tags": []
   },
   "outputs": [],
   "source": [
    "for path in fdg_paths:\n",
    "    num_of_path = path.replace(fdg_dir,\"\")\n",
    "    pub_name = fdg_root + \"-\" + patient_num + \"_\" + num_of_path\n",
    "    dataset = pydicom.dcmread(path)\n",
    "    info_fdg.append(dataset)\n",
    "    list_fdg.append(dataset.pixel_array*dataset.RescaleSlope)\n",
    "    \n",
    "for path in ct_paths:\n",
    "    num_of_path = path.replace(ct_dir,\"\")\n",
    "    pub_name = ct_root + \"-\" + patient_num + \"_\" + num_of_path\n",
    "    dataset = pydicom.dcmread(path)\n",
    "    info_ct.append(dataset)\n",
    "    list_ct.append(convert_to_hu(dataset))\n",
    "    "
   ]
  },
  {
   "cell_type": "code",
   "execution_count": 32,
   "id": "fd84a60d",
   "metadata": {},
   "outputs": [
    {
     "name": "stdout",
     "output_type": "stream",
     "text": [
      "(372, 128, 128)\n"
     ]
    }
   ],
   "source": [
    "## Anotation\n",
    "roi_path = root_path + \"AIDATA_ROI_label_PMOD_DICOM(n=400)/\" + \"ROI_\"+ patient_num+\".zip\"\n",
    "roi_3D = np.zeros((128,128))\n",
    "count = 0\n",
    "with ZipFile(roi_path) as archive:\n",
    "    for entry in archive.infolist():\n",
    "        with archive.open(entry) as file:\n",
    "            count += 1 \n",
    "            img = np.asarray(Image.open(file).convert(\"L\"))\n",
    "            roi_3D = np.dstack((img,roi_3D))\n",
    "roi_3D = np.transpose(roi_3D, (2, 0, 1))\n",
    "print(np.shape(roi_3D))"
   ]
  },
  {
   "cell_type": "code",
   "execution_count": 33,
   "id": "5e04ad6b",
   "metadata": {},
   "outputs": [
    {
     "name": "stdout",
     "output_type": "stream",
     "text": [
      "(372, 128, 128)\n",
      "(372, 128, 128)\n"
     ]
    }
   ],
   "source": [
    "num_of_file = np.shape(fdg_paths)[0] +1\n",
    "# current layer index start with the first layer \n",
    "idx = 0\n",
    "\n",
    "## load 3D patient:\n",
    "fdg_3D = resize(np.rot90(np.transpose(np.asarray(list_fdg), (2, 1, 0)),k=1, axes=(0, 2)),np.shape(roi_3D))\n",
    "ct_3D  = resize(np.asarray(list_ct),np.shape(roi_3D))\n",
    "\n",
    "#fdg_3D = np.rot90(np.transpose(np.asarray(list_fdg), (2, 1, 0)),k=1, axes=(0, 2))\n",
    "#ct_3D  = np.asarray(list_ct)\n",
    "fdg_3D = np.where(roi_3D > 0 , fdg_3D,0)\n",
    "#ct_3D  = np.where(roi_3D > 0 , ct_3D,0)\n",
    "list_arr_fdg = fdg_3D.tolist()\n",
    "list_arr_ct = ct_3D.tolist()\n",
    "\n",
    "print(np.shape(fdg_3D))\n",
    "print(np.shape(ct_3D))"
   ]
  },
  {
   "cell_type": "code",
   "execution_count": 34,
   "id": "631997e4",
   "metadata": {},
   "outputs": [
    {
     "data": {
      "image/png": "[encoded data removed]",
      "text/plain": [
       "<Figure size 432x288 with 1 Axes>"
      ]
     },
     "metadata": {
      "needs_background": "light"
     },
     "output_type": "display_data"
    }
   ],
   "source": [
    "#img_bg = norm(ct_act_3D[20,:,:])\n",
    "sg = fdg_3D\n",
    "bg = window_image(ct_3D, -700, 100)\n",
    "img_sg = map_ax(fdg_3D,1)\n",
    "lung_bg = window_image(ct_3D, -700, 100)[:,60,:]\n",
    "fig, ax = plt.subplots()\n",
    "ax.imshow(lung_bg[:,:], cmap = 'gray')\n",
    "ax.imshow(img_sg[:,:], cmap = 'hot', alpha=0.7)\n",
    "plt.show()"
   ]
  },
  {
   "cell_type": "code",
   "execution_count": null,
   "id": "fcc84b36",
   "metadata": {},
   "outputs": [],
   "source": [
    "#scope = [50,100,50,200,50,200] #l_top, l_bot, l_left, l_right, l_front, l_back \n",
    "showPETCT3D(bg[:,:,:], sg[:,:,:])"
   ]
  },
  {
   "cell_type": "code",
   "execution_count": null,
   "id": "3933f7dd",
   "metadata": {},
   "outputs": [],
   "source": [
    "import skimage.transform\n",
    "import torch\n",
    "import torch.nn as nn\n",
    "import torch.nn. functional as F\n",
    "import cv2 as cv\n",
    "from PIL import Image\n",
    "from matplotlib.pyplot import imshow\n",
    "from torchvision import models, transforms\n",
    "from torchvision.utils import save_image\n",
    "\n",
    "from ScoreCAM.utils import *\n",
    "from ScoreCAM.cam import CAM, GradCAM, GradCAMpp, SmoothGradCAMpp, ScoreCAM\n",
    "from ScoreCAM.utils.visualize import visualize, reverse_normalize\n",
    "from ScoreCAM.utils.imagenet_labels import label2idx, idx2label\n",
    "\n",
    "img = cv.merge((norm(img_sg*255.).astype(np.uint8),norm(img_sg*255.).astype(np.uint8),norm(img_sg*255.).astype(np.uint8)))\n",
    "imshow(img)\n",
    "\n",
    "# preprocessing. mean and std from ImageNet\n",
    "normalize = transforms.Normalize(\n",
    "   mean=[0.485, 0.456, 0.406],\n",
    "   std=[0.229, 0.224, 0.225]\n",
    ")\n",
    "\n",
    "preprocess = transforms.Compose([\n",
    "    transforms.ToTensor(),\n",
    "    normalize\n",
    "])\n",
    "\n",
    "# convert image to tensor\n",
    "tensor = preprocess(img)\n",
    "\n",
    "# reshape 4D tensor (N, C, H, W)\n",
    "tensor = tensor.unsqueeze(0)\n",
    "\n",
    "model = models.resnet18(pretrained=True)\n",
    "model.eval()\n",
    "print(model)\n",
    "\n",
    "# the target layer you want to visualize\n",
    "target_layer = model.layer4[1].conv2\n",
    "\n",
    "# wrapped_model = CAM(model, target_layer)\n",
    "# wrapped_model =GradCAM(model, target_layer)\n",
    "# wrapped_model = GradCAMpp(model, target_layer)\n",
    "wrapped_model = SmoothGradCAMpp(model, target_layer, n_samples=100, stdev_spread=0.01)\n",
    "#wrapped_model = ScoreCAM(model, target_layer)\n",
    "\n",
    "cam, idx = wrapped_model(tensor)\n",
    "\n",
    "print(idx2label[idx])\n",
    "\n",
    "# visualize only cam\n",
    "imshow(cam.squeeze().numpy(), alpha=0.5, cmap='jet')\n"
   ]
  },
  {
   "cell_type": "code",
   "execution_count": null,
   "id": "9fe6324a",
   "metadata": {},
   "outputs": [],
   "source": []
  }
 ],
 "metadata": {
  "kernelspec": {
   "display_name": "Python 3 (ipykernel)",
   "language": "python",
   "name": "python3"
  },
  "language_info": {
   "codemirror_mode": {
    "name": "ipython",
    "version": 3
   },
   "file_extension": ".py",
   "mimetype": "text/x-python",
   "name": "python",
   "nbconvert_exporter": "python",
   "pygments_lexer": "ipython3",
   "version": "3.9.12"
  },
  "varInspector": {
   "cols": {
    "lenName": 16,
    "lenType": 16,
    "lenVar": 40
   },
   "kernels_config": {
    "python": {
     "delete_cmd_postfix": "",
     "delete_cmd_prefix": "del ",
     "library": "var_list.py",
     "varRefreshCmd": "print(var_dic_list())"
    },
    "r": {
     "delete_cmd_postfix": ") ",
     "delete_cmd_prefix": "rm(",
     "library": "var_list.r",
     "varRefreshCmd": "cat(var_dic_list()) "
    }
   },
   "types_to_exclude": [
    "module",
    "function",
    "builtin_function_or_method",
    "instance",
    "_Feature"
   ],
   "window_display": false
  }
 },
 "nbformat": 4,
 "nbformat_minor": 5
}
